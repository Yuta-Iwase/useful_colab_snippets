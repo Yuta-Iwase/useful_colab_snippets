{
 "cells": [
  {
   "cell_type": "markdown",
   "metadata": {},
   "source": [
    "ツール > 設定 > サイト > Custom snippet notebook URL に以下を追加  \n",
    "```\n",
    "https://colab.research.google.com/github/Yuta-Iwase/useful_colab_snippets/blob/main/notebooks/ja.ipynb\n",
    "```"
   ]
  },
  {
   "cell_type": "markdown",
   "metadata": {},
   "source": [
    "## _matplotlib日本語化"
   ]
  },
  {
   "cell_type": "code",
   "execution_count": null,
   "metadata": {},
   "outputs": [],
   "source": [
    "!pip install -q japanize_matplotlib\n",
    "import matplotlib.pyplot as plt\n",
    "import japanize_matplotlib"
   ]
  }
 ],
 "metadata": {
  "language_info": {
   "name": "python"
  }
 },
 "nbformat": 4,
 "nbformat_minor": 2
}
